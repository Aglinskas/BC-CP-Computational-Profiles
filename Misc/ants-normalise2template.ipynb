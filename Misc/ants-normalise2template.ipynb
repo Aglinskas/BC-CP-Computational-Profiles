{
 "cells": [
  {
   "cell_type": "code",
   "execution_count": 1,
   "metadata": {},
   "outputs": [],
   "source": [
    "import ants"
   ]
  },
  {
   "cell_type": "code",
   "execution_count": 37,
   "metadata": {},
   "outputs": [],
   "source": [
    "template_fn='/Volumes/Samsung_T5/NormalisedMasks/Atlas_brain_2mm.nii'\n",
    "template = ants.image_read(template_fn)\n",
    "#template.plot()"
   ]
  },
  {
   "cell_type": "code",
   "execution_count": 3,
   "metadata": {},
   "outputs": [],
   "source": [
    "im_fn = '/Users/aidasaglinskas/Desktop/BC-CP-Computational-Profiles/Misc/PlayFigures/in_raw/sub1_ccid.nii'\n",
    "im = ants.image_read(im_fn)"
   ]
  },
  {
   "cell_type": "code",
   "execution_count": 36,
   "metadata": {},
   "outputs": [],
   "source": [
    "brain_fn = '/Users/aidasaglinskas/Desktop/BC-CP-Computational-Profiles/Data/brain_mask.nii'\n",
    "brain=ants.image_read(brain_fn)\n",
    "#brain.plot()"
   ]
  },
  {
   "cell_type": "code",
   "execution_count": 5,
   "metadata": {},
   "outputs": [],
   "source": [
    "reg = ants.registration(fixed=template,moving=brain,type_of_transform='SyN', reg_iterations = [5,5,5] )"
   ]
  },
  {
   "cell_type": "code",
   "execution_count": 35,
   "metadata": {},
   "outputs": [],
   "source": [
    "#template.plot(overlay=reg['warpedmovout'],overlay_alpha=.4)\n",
    "#reg['warpedmovout'].plot(overlay=template,overlay_alpha=.4)"
   ]
  },
  {
   "cell_type": "code",
   "execution_count": 23,
   "metadata": {},
   "outputs": [],
   "source": [
    "im2=ants.apply_transforms(fixed=template,moving=im,transformlist=reg[ 'fwdtransforms'])"
   ]
  },
  {
   "cell_type": "code",
   "execution_count": 45,
   "metadata": {},
   "outputs": [],
   "source": [
    "im2=ants.resample_image_to_target(im,template)\n",
    "im2.to_filename(im_fn.replace('sub','nsub'))"
   ]
  },
  {
   "cell_type": "code",
   "execution_count": null,
   "metadata": {},
   "outputs": [],
   "source": []
  }
 ],
 "metadata": {
  "kernelspec": {
   "display_name": "Python 3",
   "language": "python",
   "name": "python3"
  },
  "language_info": {
   "codemirror_mode": {
    "name": "ipython",
    "version": 3
   },
   "file_extension": ".py",
   "mimetype": "text/x-python",
   "name": "python",
   "nbconvert_exporter": "python",
   "pygments_lexer": "ipython3",
   "version": "3.7.4"
  }
 },
 "nbformat": 4,
 "nbformat_minor": 2
}
